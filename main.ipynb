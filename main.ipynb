{
 "cells": [
  {
   "cell_type": "markdown",
   "metadata": {},
   "source": [
    "# Captura de mudanças no ambiente através da webcam"
   ]
  },
  {
   "cell_type": "code",
   "execution_count": null,
   "metadata": {},
   "outputs": [],
   "source": [
    "import cv2\n",
    "\n",
    "# Abrir o vídeo\n",
    "cam = cv2.VideoCapture(0)  # Troque pelo caminho do seu vídeo\n",
    "\n",
    "# Ler o primeiro frame como referência de fundo\n",
    "ret, frame_reference = cam.read()\n",
    "if not ret:\n",
    "    print(\"Erro ao carregar o vídeo\")\n",
    "    cam.release()\n",
    "    exit()\n",
    "\n",
    "frame_reference = cv2.flip(frame_reference, 1) \n",
    "# Converter o frame de referência para escala de cinza\n",
    "frame_reference_gray = cv2.cvtColor(frame_reference, cv2.COLOR_BGR2GRAY)\n",
    "frame_reference_gray = cv2.GaussianBlur(frame_reference_gray, (21, 21), 0)\n",
    "\n",
    "while True:\n",
    "    ret, frame = cam.read()\n",
    "\n",
    "    if not ret:\n",
    "        break\n",
    "    \n",
    "    frame = cv2.flip(frame, 1) \n",
    "    # frame = cv2.resize(frame, (0,0), fx=0.5, fy=0.5)\n",
    "    # Converter o frame atual para escala de cinza e aplicar suavização\n",
    "    frame_gray = cv2.cvtColor(frame, cv2.COLOR_BGR2GRAY)\n",
    "    frame_gray = cv2.GaussianBlur(frame_gray, (21, 21), 0)\n",
    "\n",
    "    # Subtrair o frame de referência do frame atual para detectar mudanças\n",
    "    frame_delta = cv2.absdiff(frame_reference_gray, frame_gray)\n",
    "\n",
    "    # Aplicar o thresholding para obter a imagem binária das mudanças\n",
    "    _, thresh = cv2.threshold(frame_delta, 25, 255, cv2.THRESH_BINARY)\n",
    "\n",
    "    # Dilatar a imagem para preencher buracos nos contornos\n",
    "    thresh = cv2.dilate(thresh, None, iterations=2)\n",
    "\n",
    "    # Encontrar contornos das mudanças\n",
    "    contours, _ = cv2.findContours(thresh.copy(), cv2.RETR_EXTERNAL, cv2.CHAIN_APPROX_SIMPLE)\n",
    "\n",
    "    # Desenhar retângulos ao redor das áreas detectadas\n",
    "    for contour in contours:\n",
    "        if cv2.contourArea(contour) < 500:  # Ignorar pequenas áreas\n",
    "            continue\n",
    "        (x, y, w, h) = cv2.boundingRect(contour)\n",
    "        cv2.rectangle(frame, (x, y), (x + w, y + h), (0, 255, 0), 2)\n",
    "\n",
    "    # Mostrar o frame com as detecções\n",
    "    cv2.imshow('Deteccao de Mudancas', frame)\n",
    "    cv2.imshow('Thresh', thresh)\n",
    "    cv2.imshow('Frame Delta', frame_delta)\n",
    "\n",
    "    # Pressione 'q' para sair\n",
    "    if cv2.waitKey(30) & 0xFF == ord('q'):\n",
    "        break\n",
    "\n",
    "# Liberar o vídeo e fechar as janelas\n",
    "cam.release()\n",
    "cv2.destroyAllWindows()\n"
   ]
  }
 ],
 "metadata": {
  "kernelspec": {
   "display_name": "Python 3",
   "language": "python",
   "name": "python3"
  },
  "language_info": {
   "codemirror_mode": {
    "name": "ipython",
    "version": 3
   },
   "file_extension": ".py",
   "mimetype": "text/x-python",
   "name": "python",
   "nbconvert_exporter": "python",
   "pygments_lexer": "ipython3",
   "version": "3.10.12"
  }
 },
 "nbformat": 4,
 "nbformat_minor": 2
}
